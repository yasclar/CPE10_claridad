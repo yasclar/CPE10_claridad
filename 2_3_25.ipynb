{
  "nbformat": 4,
  "nbformat_minor": 0,
  "metadata": {
    "colab": {
      "provenance": [],
      "authorship_tag": "ABX9TyOvz1zYrnGDULFiSo/9DFez",
      "include_colab_link": true
    },
    "kernelspec": {
      "name": "python3",
      "display_name": "Python 3"
    },
    "language_info": {
      "name": "python"
    }
  },
  "cells": [
    {
      "cell_type": "markdown",
      "metadata": {
        "id": "view-in-github",
        "colab_type": "text"
      },
      "source": [
        "<a href=\"https://colab.research.google.com/github/yasclar/CPE10_claridad/blob/main/2_3_25.ipynb\" target=\"_parent\"><img src=\"https://colab.research.google.com/assets/colab-badge.svg\" alt=\"Open In Colab\"/></a>"
      ]
    },
    {
      "cell_type": "code",
      "execution_count": 7,
      "metadata": {
        "colab": {
          "base_uri": "https://localhost:8080/"
        },
        "id": "4obfoXLAFvuO",
        "outputId": "19bb1f61-df53-42e5-f1d5-313ef3f61c61"
      },
      "outputs": [
        {
          "output_type": "stream",
          "name": "stdout",
          "text": [
            "3\n",
            "Yasmin\n",
            "Claridad\n"
          ]
        }
      ],
      "source": [
        "students = [\"Yasmin\", \"Tricia\", \"Claridad\"]\n",
        "print(len(students))\n",
        "\n",
        "for i in range(len(students)):\n",
        "  if students[i] == \"Yasmin\":\n",
        "    break\n",
        "  print(students[i])\n",
        "\n",
        "for i in range(len(students)):\n",
        "  if students[i] == \"Tricia\":\n",
        "    continue\n",
        "  print(students[i])"
      ]
    },
    {
      "cell_type": "code",
      "source": [
        "for i in students:\n",
        "  print(i)"
      ],
      "metadata": {
        "colab": {
          "base_uri": "https://localhost:8080/"
        },
        "id": "KLXb3XckGfbz",
        "outputId": "342b7577-bb66-4fc2-d2d6-97bb3c9533fc"
      },
      "execution_count": 2,
      "outputs": [
        {
          "output_type": "stream",
          "name": "stdout",
          "text": [
            "Yasmin\n",
            "Tricia\n",
            "Claridad\n"
          ]
        }
      ]
    },
    {
      "cell_type": "code",
      "source": [
        "number = int(input(\"Enter N --> \"))\n",
        "n = int(input(\"Test divisibility by --> \"))\n",
        "\n",
        "i = number%n\n",
        "\n",
        "if i != 0:\n",
        "    print (\"The number \",number,\" is not divisible by \",n,\"\\n\")\n",
        "\n"
      ],
      "metadata": {
        "colab": {
          "base_uri": "https://localhost:8080/"
        },
        "id": "XJl7jP2z0hHN",
        "outputId": "afa07939-26d6-4219-9ced-f664eaf95084"
      },
      "execution_count": 3,
      "outputs": [
        {
          "name": "stdout",
          "output_type": "stream",
          "text": [
            "Enter N --> 15\n",
            "Test divisibility by --> 5\n"
          ]
        }
      ]
    },
    {
      "cell_type": "code",
      "source": [
        "hidden = \"Mypasscode\"\n",
        "password = (input(\"Enter your password:\"))\n",
        "\n",
        "if password == hidden:\n",
        "  print (input(\"You entered the right password\\n \"))\n",
        "else:\n",
        "  print (input(\"Wrong password\\n\"))"
      ],
      "metadata": {
        "colab": {
          "base_uri": "https://localhost:8080/"
        },
        "id": "nd9Q1mmjG3iS",
        "outputId": "ace7e6fe-463e-4ddb-d47e-2e8be92d6182"
      },
      "execution_count": 4,
      "outputs": [
        {
          "output_type": "stream",
          "name": "stdout",
          "text": [
            "Enter your password:yasmin12\n",
            "Wrong password\n",
            "yasimin12\n",
            "yasimin12\n"
          ]
        }
      ]
    },
    {
      "cell_type": "code",
      "source": [
        "N = int(input(\"Enter N --> \"))\n",
        "print(\"Counting numbers from 0 to\", N, \"\\n\")\n",
        "\n",
        "i = 0\n",
        "while i < N+1:\n",
        "  print(i, \"\\n\")\n",
        "  i += 1"
      ],
      "metadata": {
        "colab": {
          "base_uri": "https://localhost:8080/"
        },
        "id": "OoK0yRHrHDfb",
        "outputId": "93ff61c5-2179-4c33-ef7f-fa8dd30394db"
      },
      "execution_count": 5,
      "outputs": [
        {
          "output_type": "stream",
          "name": "stdout",
          "text": [
            "Enter N --> 12\n",
            "Counting numbers from 0 to 12 \n",
            "\n",
            "0 \n",
            "\n",
            "1 \n",
            "\n",
            "2 \n",
            "\n",
            "3 \n",
            "\n",
            "4 \n",
            "\n",
            "5 \n",
            "\n",
            "6 \n",
            "\n",
            "7 \n",
            "\n",
            "8 \n",
            "\n",
            "9 \n",
            "\n",
            "10 \n",
            "\n",
            "11 \n",
            "\n",
            "12 \n",
            "\n"
          ]
        }
      ]
    },
    {
      "cell_type": "code",
      "source": [
        "names = [\"Yasmin\", \"Tricia\", \"Claridad\"]\n",
        "j = 0\n",
        "for name in names:\n",
        "  j += 1\n",
        "  print(\"The number\", j, \"In the list is\", name)"
      ],
      "metadata": {
        "colab": {
          "base_uri": "https://localhost:8080/"
        },
        "id": "pHkYcTyNHGSb",
        "outputId": "518c1c6c-ca28-4345-a6b7-21a74a7b88cc"
      },
      "execution_count": 6,
      "outputs": [
        {
          "output_type": "stream",
          "name": "stdout",
          "text": [
            "The number 1 In the list is Lazzy\n",
            "The number 2 In the list is Sparky\n",
            "The number 3 In the list is Laky\n"
          ]
        }
      ]
    },
    {
      "cell_type": "code",
      "source": [
        "N = int(input(\"Enter the last integer considered --> \"))\n",
        "Sum = 0\n",
        "for i in range(0, N+1, 1):\n",
        "    Sum += i**2\n",
        "print (\"The sum of the squares between 0 and\", N, \"is\", Sum)\n",
        "\n"
      ],
      "metadata": {
        "colab": {
          "base_uri": "https://localhost:8080/"
        },
        "id": "ax-EvHD7Hbvj",
        "outputId": "f818345e-26e2-48b8-eb95-ac9b006b92e5"
      },
      "execution_count": 8,
      "outputs": [
        {
          "output_type": "stream",
          "name": "stdout",
          "text": [
            "Enter the last integer considered --> 15\n",
            "The sum of the squares between 0 and 15 is 1240\n"
          ]
        }
      ]
    },
    {
      "cell_type": "code",
      "source": [
        "N = int(input(\"Enter N --> \"))\n",
        "for i in range(0, N+1, 1):\n",
        "    if i**2 == N:\n",
        "        break\n",
        "    else:\n",
        "        if i % 5 == 0:\n",
        "            continue\n",
        "        print (i, \"\\n\")\n"
      ],
      "metadata": {
        "colab": {
          "base_uri": "https://localhost:8080/"
        },
        "id": "CWSoe5ocHhHy",
        "outputId": "20daba11-ba15-45ea-f1c4-f02c27769a25"
      },
      "execution_count": 9,
      "outputs": [
        {
          "output_type": "stream",
          "name": "stdout",
          "text": [
            "Enter N --> 5\n",
            "1 \n",
            "\n",
            "2 \n",
            "\n",
            "3 \n",
            "\n",
            "4 \n",
            "\n"
          ]
        }
      ]
    },
    {
      "cell_type": "markdown",
      "source": [
        "**Suplementary Activity**"
      ],
      "metadata": {
        "id": "o516yg2CISPi"
      }
    },
    {
      "cell_type": "code",
      "source": [
        "def factorial(n):\n",
        "  if n==0 or n==1:\n",
        "    return 1\n",
        "  else:\n",
        "    return n * factorial(n-1)\n",
        "\n",
        "n = int(input(\"n!: \"))\n",
        "result = factorial(n)\n",
        "print(f\"Factorial of {n} is {result}\")"
      ],
      "metadata": {
        "colab": {
          "base_uri": "https://localhost:8080/"
        },
        "id": "qF8DoyEQIhJj",
        "outputId": "d7e55bf3-dcb3-4850-ba5b-1013f8aafa77"
      },
      "execution_count": 13,
      "outputs": [
        {
          "output_type": "stream",
          "name": "stdout",
          "text": [
            "n!: 6\n",
            "Factorial of 6 is 720\n"
          ]
        }
      ]
    },
    {
      "cell_type": "code",
      "source": [
        "def transform_word(word):\n",
        "    transformed_word = \"\"\n",
        "    for index, char in enumerate(word):\n",
        "        if index % 2 == 0:\n",
        "            transformed_word += char.lower()\n",
        "        else:\n",
        "            transformed_word += char.upper()\n",
        "    return transformed_word\n",
        "\n",
        "user_input = input (\"Please enter a single word: \")\n",
        "transformed = transform_word(user_input)\n",
        "print(transformed)"
      ],
      "metadata": {
        "colab": {
          "base_uri": "https://localhost:8080/"
        },
        "id": "LVLIplZMOos7",
        "outputId": "35b9a3e0-d73d-40d4-b07b-5168ff3d3111"
      },
      "execution_count": 30,
      "outputs": [
        {
          "output_type": "stream",
          "name": "stdout",
          "text": [
            "Please enter a single word: twenty\n",
            "tWeNtY\n"
          ]
        }
      ]
    },
    {
      "cell_type": "code",
      "source": [
        "# modified encrypt\n",
        "def encrypt_caesar(plain_text, shift):\n",
        "    encrypted_text = \"\"\n",
        "    for char in plain_text:\n",
        "        if char.isalpha():\n",
        "            shift_amount = shift % 26\n",
        "            shifted_char = ord(char) + shift_amount\n",
        "            if char.islower():\n",
        "                if shifted_char > ord('z'):\n",
        "                    shifted_char -= 26\n",
        "            elif char.isupper():\n",
        "                if shifted_char > ord('Z'):\n",
        "                    shifted_char -= 26\n",
        "            encrypted_text += chr(shifted_char)\n",
        "        else:\n",
        "            encrypted_text += char\n",
        "    return encrypted_text\n",
        "\n",
        "# Get user input for shift and text\n",
        "shift_value = int(input(\"Enter a shift value (0-10): \"))\n",
        "if not (0 <= shift_value <= 10):\n",
        "    print(\"Shift value must be between 0 and 10.\")\n",
        "else:\n",
        "    sent = input(\"Enter a sentence: \")\n",
        "    encrypted_message = encrypt_caesar(sent, shift_value)\n",
        "    print(\"Encrypted message:\", encrypted_message)\n",
        "\n",
        "# modified decrypt\n",
        "def decrypt_caesar(encrypted_text, shift):\n",
        "    decrypted_text = \"\""
      ],
      "metadata": {
        "colab": {
          "base_uri": "https://localhost:8080/"
        },
        "id": "gCFAQISyUsuX",
        "outputId": "0d3100e7-eef9-484a-bc13-dd16e63e33fb"
      },
      "execution_count": 35,
      "outputs": [
        {
          "output_type": "stream",
          "name": "stdout",
          "text": [
            "Enter a shift value (0-10): 8\n",
            "Enter a sentence: Life is good\n",
            "Encrypted message: Tqnm qa owwl\n"
          ]
        }
      ]
    },
    {
      "cell_type": "code",
      "source": [
        "def encrypt_caesar(plain_text, shift=3):\n",
        "    encrypted_text = \"\"\n",
        "    for char in plain_text:\n",
        "        if char.isalpha():\n",
        "            shift_amount = shift % 26\n",
        "            shifted_char = ord(char) + shift_amount\n",
        "            if char.islower():\n",
        "                if shifted_char > ord('z'):\n",
        "                    shifted_char -= 26\n",
        "            elif char.isupper():\n",
        "                if shifted_char > ord('Z'):\n",
        "                    shifted_char -= 26\n",
        "            encrypted_text += chr(shifted_char)\n",
        "        else:\n",
        "            encrypted_text += char\n",
        "    return encrypted_text\n",
        "\n",
        "sent = input(\"Enter a sentence: \")\n",
        "encrypted_message = encrypt_caesar(sent)\n",
        "print(\"Encrypted message:\", encrypted_message)\n"
      ],
      "metadata": {
        "colab": {
          "base_uri": "https://localhost:8080/"
        },
        "id": "iOoPoV5ZU11e",
        "outputId": "02abcb48-6fe7-4acb-dc45-96362878ce2e"
      },
      "execution_count": 36,
      "outputs": [
        {
          "output_type": "stream",
          "name": "stdout",
          "text": [
            "Enter a sentence: Life is good\n",
            "Encrypted message: Olih lv jrrg\n"
          ]
        }
      ]
    },
    {
      "cell_type": "code",
      "source": [
        "def decrypt_caesar(encrypted_text, shift=3):\n",
        "    decrypted_text = \"\"\n",
        "    for char in encrypted_text:\n",
        "        if char.isalpha():\n",
        "            shift_amount = shift % 26\n",
        "            shifted_char = ord(char) - shift_amount\n",
        "            if char.islower():\n",
        "                if shifted_char < ord('a'):\n",
        "                    shifted_char += 26\n",
        "            elif char.isupper():\n",
        "                if shifted_char < ord('A'):\n",
        "                    shifted_char += 26\n",
        "            decrypted_text += chr(shifted_char)\n",
        "        else:\n",
        "            decrypted_text += char\n",
        "    return decrypted_text\n",
        "\n",
        "sent = input(\"Enter an encrypted sentence: \")\n",
        "decrypted_message = decrypt_caesar(sent)\n",
        "print(\"Decrypted message:\", decrypted_message)\n"
      ],
      "metadata": {
        "colab": {
          "base_uri": "https://localhost:8080/"
        },
        "id": "4ayINOy2VxfN",
        "outputId": "8fd9c80c-678d-41f0-f173-7e1cea35d126"
      },
      "execution_count": 38,
      "outputs": [
        {
          "output_type": "stream",
          "name": "stdout",
          "text": [
            "Enter an encrypted sentence: life is good\n",
            "Decrypted message: ifcb fp dlla\n"
          ]
        }
      ]
    }
  ]
}