{
  "nbformat": 4,
  "nbformat_minor": 0,
  "metadata": {
    "colab": {
      "provenance": [],
      "authorship_tag": "ABX9TyPXBmZN5QjKvw0VS+yoZ6Wp",
      "include_colab_link": true
    },
    "kernelspec": {
      "name": "python3",
      "display_name": "Python 3"
    },
    "language_info": {
      "name": "python"
    }
  },
  "cells": [
    {
      "cell_type": "markdown",
      "metadata": {
        "id": "view-in-github",
        "colab_type": "text"
      },
      "source": [
        "<a href=\"https://colab.research.google.com/github/yasclar/CPE10_claridad/blob/main/CPE_310_HOA3_Functions_ipynb2_16_25.ipynb\" target=\"_parent\"><img src=\"https://colab.research.google.com/assets/colab-badge.svg\" alt=\"Open In Colab\"/></a>"
      ]
    },
    {
      "cell_type": "code",
      "source": [
        "max('Hello world')"
      ],
      "metadata": {
        "colab": {
          "base_uri": "https://localhost:8080/",
          "height": 36
        },
        "id": "UXceKXX-s0le",
        "outputId": "22f5c80e-fbf4-4b33-f016-a6d57e6cee13"
      },
      "execution_count": null,
      "outputs": [
        {
          "output_type": "execute_result",
          "data": {
            "text/plain": [
              "'w'"
            ],
            "application/vnd.google.colaboratory.intrinsic+json": {
              "type": "string"
            }
          },
          "metadata": {},
          "execution_count": 8
        }
      ]
    },
    {
      "cell_type": "code",
      "source": [
        "min('Hello world')"
      ],
      "metadata": {
        "colab": {
          "base_uri": "https://localhost:8080/",
          "height": 36
        },
        "id": "qBm_lwzmshHH",
        "outputId": "4c5a283c-33d8-4f5f-8a25-507001c56637"
      },
      "execution_count": null,
      "outputs": [
        {
          "output_type": "execute_result",
          "data": {
            "text/plain": [
              "' '"
            ],
            "application/vnd.google.colaboratory.intrinsic+json": {
              "type": "string"
            }
          },
          "metadata": {},
          "execution_count": 9
        }
      ]
    },
    {
      "cell_type": "code",
      "source": [
        "len('Hello world')"
      ],
      "metadata": {
        "colab": {
          "base_uri": "https://localhost:8080/"
        },
        "id": "qZXECu7ftH45",
        "outputId": "db008603-64f7-41bd-c755-5705afe6a7ae"
      },
      "execution_count": null,
      "outputs": [
        {
          "output_type": "execute_result",
          "data": {
            "text/plain": [
              "11"
            ]
          },
          "metadata": {},
          "execution_count": 10
        }
      ]
    },
    {
      "cell_type": "code",
      "source": [
        "int('32')"
      ],
      "metadata": {
        "colab": {
          "base_uri": "https://localhost:8080/"
        },
        "id": "HP3P51NItkI_",
        "outputId": "afd1a337-5ecd-489a-b9e9-e0582feaf8e1"
      },
      "execution_count": null,
      "outputs": [
        {
          "output_type": "execute_result",
          "data": {
            "text/plain": [
              "32"
            ]
          },
          "metadata": {},
          "execution_count": 11
        }
      ]
    },
    {
      "cell_type": "code",
      "source": [
        "int('Hello')"
      ],
      "metadata": {
        "colab": {
          "base_uri": "https://localhost:8080/",
          "height": 146
        },
        "id": "ZDoiLKkPtkOe",
        "outputId": "6814e2ef-0194-41fb-fc3a-7f63fcb3f478"
      },
      "execution_count": null,
      "outputs": [
        {
          "output_type": "error",
          "ename": "ValueError",
          "evalue": "invalid literal for int() with base 10: 'Hello'",
          "traceback": [
            "\u001b[0;31m---------------------------------------------------------------------------\u001b[0m",
            "\u001b[0;31mValueError\u001b[0m                                Traceback (most recent call last)",
            "\u001b[0;32m<ipython-input-12-6765ce49acfe>\u001b[0m in \u001b[0;36m<cell line: 0>\u001b[0;34m()\u001b[0m\n\u001b[0;32m----> 1\u001b[0;31m \u001b[0mint\u001b[0m\u001b[0;34m(\u001b[0m\u001b[0;34m'Hello'\u001b[0m\u001b[0;34m)\u001b[0m\u001b[0;34m\u001b[0m\u001b[0;34m\u001b[0m\u001b[0m\n\u001b[0m",
            "\u001b[0;31mValueError\u001b[0m: invalid literal for int() with base 10: 'Hello'"
          ]
        }
      ]
    },
    {
      "cell_type": "code",
      "source": [
        "int(3.99999)"
      ],
      "metadata": {
        "colab": {
          "base_uri": "https://localhost:8080/"
        },
        "id": "TzOcB8kftkRo",
        "outputId": "85e9a9b4-2dcc-42d3-d368-e1b0ecd61059"
      },
      "execution_count": null,
      "outputs": [
        {
          "output_type": "execute_result",
          "data": {
            "text/plain": [
              "3"
            ]
          },
          "metadata": {},
          "execution_count": 13
        }
      ]
    },
    {
      "cell_type": "code",
      "source": [
        "int(-2.3)"
      ],
      "metadata": {
        "colab": {
          "base_uri": "https://localhost:8080/"
        },
        "id": "Z0Ztr_sCtkUo",
        "outputId": "d98490a6-1b36-41a3-9f69-7cc2ca3fcc49"
      },
      "execution_count": null,
      "outputs": [
        {
          "output_type": "execute_result",
          "data": {
            "text/plain": [
              "-2"
            ]
          },
          "metadata": {},
          "execution_count": 14
        }
      ]
    },
    {
      "cell_type": "code",
      "source": [
        "float(32)"
      ],
      "metadata": {
        "colab": {
          "base_uri": "https://localhost:8080/"
        },
        "id": "iMUsmACWtkXy",
        "outputId": "69fa4a12-258e-4d93-a02f-f60b18b08296"
      },
      "execution_count": null,
      "outputs": [
        {
          "output_type": "execute_result",
          "data": {
            "text/plain": [
              "32.0"
            ]
          },
          "metadata": {},
          "execution_count": 15
        }
      ]
    },
    {
      "cell_type": "code",
      "source": [
        "float('3.14159')"
      ],
      "metadata": {
        "colab": {
          "base_uri": "https://localhost:8080/"
        },
        "id": "PqL4B80rt5ss",
        "outputId": "a477bdb5-7a27-453b-8557-8c3bd02bb817"
      },
      "execution_count": null,
      "outputs": [
        {
          "output_type": "execute_result",
          "data": {
            "text/plain": [
              "3.14159"
            ]
          },
          "metadata": {},
          "execution_count": 16
        }
      ]
    },
    {
      "cell_type": "code",
      "source": [
        "import math\n",
        "\n",
        "print(math)\n"
      ],
      "metadata": {
        "colab": {
          "base_uri": "https://localhost:8080/"
        },
        "id": "u0BdPgZEt5vh",
        "outputId": "b919c23c-5667-4eaa-ff17-7d80e9904453"
      },
      "execution_count": null,
      "outputs": [
        {
          "output_type": "stream",
          "name": "stdout",
          "text": [
            "<module 'math' (built-in)>\n"
          ]
        }
      ]
    },
    {
      "cell_type": "code",
      "source": [
        "import math\n",
        "\n",
        "degrees = 45\n",
        "radians = degrees / 360.0 * 2 * math.pi\n",
        "math.sin(radians)"
      ],
      "metadata": {
        "colab": {
          "base_uri": "https://localhost:8080/"
        },
        "id": "4BFwM0vet5zy",
        "outputId": "674b2f29-f588-4f66-b39c-f893981f66c1"
      },
      "execution_count": null,
      "outputs": [
        {
          "output_type": "execute_result",
          "data": {
            "text/plain": [
              "0.7071067811865475"
            ]
          },
          "metadata": {},
          "execution_count": 21
        }
      ]
    },
    {
      "cell_type": "code",
      "source": [
        "import math\n",
        "math.sqrt(2) / 2.0\n"
      ],
      "metadata": {
        "colab": {
          "base_uri": "https://localhost:8080/"
        },
        "id": "1ohqTQnNt52p",
        "outputId": "35a93348-7849-4170-992d-1a2448115038"
      },
      "execution_count": null,
      "outputs": [
        {
          "output_type": "execute_result",
          "data": {
            "text/plain": [
              "0.7071067811865476"
            ]
          },
          "metadata": {},
          "execution_count": 22
        }
      ]
    },
    {
      "cell_type": "code",
      "source": [
        "import random\n",
        "\n",
        "for i in range(10):\n",
        "    x = random.random()\n",
        "    print(x)\n"
      ],
      "metadata": {
        "colab": {
          "base_uri": "https://localhost:8080/"
        },
        "id": "7hQTJXjRwWhn",
        "outputId": "ba009a20-7feb-4f1f-82b7-10d27aa8124a"
      },
      "execution_count": null,
      "outputs": [
        {
          "output_type": "stream",
          "name": "stdout",
          "text": [
            "0.4513377736448957\n",
            "0.7012976515205831\n",
            "0.3536326229190866\n",
            "0.4532656312490577\n",
            "0.16715241514262347\n",
            "0.2685346384611307\n",
            "0.3774500729941751\n",
            "0.7399180285906622\n",
            "0.27739384623444285\n",
            "0.3026311512214347\n"
          ]
        }
      ]
    },
    {
      "cell_type": "code",
      "source": [
        "random.randint(5, 10)"
      ],
      "metadata": {
        "colab": {
          "base_uri": "https://localhost:8080/"
        },
        "id": "qSbc6Ma4wWoa",
        "outputId": "14df757d-f108-4c66-d503-5fef43e54b37"
      },
      "execution_count": null,
      "outputs": [
        {
          "output_type": "execute_result",
          "data": {
            "text/plain": [
              "10"
            ]
          },
          "metadata": {},
          "execution_count": 24
        }
      ]
    },
    {
      "cell_type": "code",
      "source": [
        "random.randint(5, 10)"
      ],
      "metadata": {
        "colab": {
          "base_uri": "https://localhost:8080/"
        },
        "id": "Cy3YvDi1wjka",
        "outputId": "edea0e9d-ee1a-47a8-cc70-e9b3ee706e9e"
      },
      "execution_count": null,
      "outputs": [
        {
          "output_type": "execute_result",
          "data": {
            "text/plain": [
              "7"
            ]
          },
          "metadata": {},
          "execution_count": 25
        }
      ]
    },
    {
      "cell_type": "code",
      "source": [
        "random.randint(5, 10)"
      ],
      "metadata": {
        "colab": {
          "base_uri": "https://localhost:8080/"
        },
        "id": "TyaxGCX5wjsq",
        "outputId": "abaf1106-7132-412e-9bf7-f803111535fe"
      },
      "execution_count": null,
      "outputs": [
        {
          "output_type": "execute_result",
          "data": {
            "text/plain": [
              "9"
            ]
          },
          "metadata": {},
          "execution_count": 26
        }
      ]
    },
    {
      "cell_type": "code",
      "source": [
        "t = [1, 2, 3]\n",
        "random.choice(t)"
      ],
      "metadata": {
        "colab": {
          "base_uri": "https://localhost:8080/"
        },
        "id": "9leknY4nwm4p",
        "outputId": "b3489fc9-86fe-4c4d-9516-10bacd8b0a3a"
      },
      "execution_count": null,
      "outputs": [
        {
          "output_type": "execute_result",
          "data": {
            "text/plain": [
              "3"
            ]
          },
          "metadata": {},
          "execution_count": 27
        }
      ]
    },
    {
      "cell_type": "code",
      "source": [
        "def print_lyrics():\n",
        "      print(\"I'm a lumberjack, and I'm okay.\")\n",
        "      print('I sleep all night and I work all day.')\n",
        "\n",
        "print(print_lyrics)\n",
        "print(type(print_lyrics))\n",
        "\n",
        "print_lyrics()\n"
      ],
      "metadata": {
        "colab": {
          "base_uri": "https://localhost:8080/"
        },
        "id": "7YC5TP7hw0bC",
        "outputId": "3e8a9f4d-de13-4644-91ba-00f4b2aaa252"
      },
      "execution_count": null,
      "outputs": [
        {
          "output_type": "stream",
          "name": "stdout",
          "text": [
            "<function print_lyrics at 0x7991a0295ee0>\n",
            "<class 'function'>\n",
            "I'm a lumberjack, and I'm okay.\n",
            "I sleep all night and I work all day.\n"
          ]
        }
      ]
    },
    {
      "cell_type": "code",
      "source": [
        "def repeat_lyrics():\n",
        "      print_lyrics()\n",
        "      print_lyrics()\n",
        "\n",
        "repeat_lyrics()"
      ],
      "metadata": {
        "colab": {
          "base_uri": "https://localhost:8080/"
        },
        "id": "9tteNjJ8xiXr",
        "outputId": "628ade4d-4dd7-4a06-9e8c-677c1e8c48a4"
      },
      "execution_count": null,
      "outputs": [
        {
          "output_type": "stream",
          "name": "stdout",
          "text": [
            "I'm a lumberjack, and I'm okay.\n",
            "I sleep all night and I work all day.\n",
            "I'm a lumberjack, and I'm okay.\n",
            "I sleep all night and I work all day.\n"
          ]
        }
      ]
    },
    {
      "cell_type": "code",
      "source": [
        "def print_lyrics():\n",
        "    print(\"I'm a lumberjack, and I'm okay.\")\n",
        "    print('I sleep all night and I work all day.')\n",
        "\n",
        "def repeat_lyrics():\n",
        "    print_lyrics()\n",
        "    print_lyrics()\n",
        "\n",
        "repeat_lyrics()\n"
      ],
      "metadata": {
        "colab": {
          "base_uri": "https://localhost:8080/"
        },
        "id": "XTb4-_hQyHtm",
        "outputId": "74073b40-2807-44a9-f54d-f8889972a165"
      },
      "execution_count": null,
      "outputs": [
        {
          "output_type": "stream",
          "name": "stdout",
          "text": [
            "I'm a lumberjack, and I'm okay.\n",
            "I sleep all night and I work all day.\n",
            "I'm a lumberjack, and I'm okay.\n",
            "I sleep all night and I work all day.\n"
          ]
        }
      ]
    },
    {
      "cell_type": "code",
      "source": [
        "def print_twice(bruce):\n",
        "    print(bruce)\n",
        "    print(bruce)\n",
        "\n",
        "print_twice('spam')\n",
        "\n",
        "print_twice(17)\n",
        "\n",
        "import math\n",
        "print_twice(math.pi)\n",
        "\n",
        "print_twice('Spam '*4)\n",
        "\n",
        "print_twice(math.cos(math.pi))\n",
        "\n",
        "michael = 'Eric, the half a bee.'\n",
        "print_twice(michael)"
      ],
      "metadata": {
        "colab": {
          "base_uri": "https://localhost:8080/"
        },
        "id": "v596XjmvyIIa",
        "outputId": "fdd15c5b-70b0-4ffd-e9fc-8ce9d071f48a"
      },
      "execution_count": null,
      "outputs": [
        {
          "output_type": "stream",
          "name": "stdout",
          "text": [
            "spam\n",
            "spam\n",
            "17\n",
            "17\n",
            "3.141592653589793\n",
            "3.141592653589793\n",
            "Spam Spam Spam Spam \n",
            "Spam Spam Spam Spam \n",
            "-1.0\n",
            "-1.0\n",
            "Eric, the half a bee.\n",
            "Eric, the half a bee.\n"
          ]
        }
      ]
    },
    {
      "cell_type": "code",
      "source": [
        "math.sqrt(5)"
      ],
      "metadata": {
        "colab": {
          "base_uri": "https://localhost:8080/"
        },
        "id": "4aALrxbCy6oG",
        "outputId": "22ca114a-77e7-44fa-8708-cbabbb37784e"
      },
      "execution_count": null,
      "outputs": [
        {
          "output_type": "execute_result",
          "data": {
            "text/plain": [
              "2.23606797749979"
            ]
          },
          "metadata": {},
          "execution_count": 53
        }
      ]
    },
    {
      "cell_type": "code",
      "source": [
        "result = print_twice('Bing')\n",
        "print(result)\n",
        "print(type(result))"
      ],
      "metadata": {
        "colab": {
          "base_uri": "https://localhost:8080/"
        },
        "id": "_4aX28Qty6rP",
        "outputId": "c7c884db-a49c-4858-b15e-467957932fa3"
      },
      "execution_count": null,
      "outputs": [
        {
          "output_type": "stream",
          "name": "stdout",
          "text": [
            "Bing\n",
            "Bing\n",
            "None\n",
            "<class 'NoneType'>\n"
          ]
        }
      ]
    },
    {
      "cell_type": "code",
      "source": [
        "def addtwo(a, b):\n",
        "    added = a + b\n",
        "    return added\n",
        "\n",
        "x = addtwo(3, 5)\n",
        "print(x)\n"
      ],
      "metadata": {
        "colab": {
          "base_uri": "https://localhost:8080/"
        },
        "id": "fRaoh7JEy6uM",
        "outputId": "9da0e6aa-0aca-4d50-e52d-e04f0ce5c16b"
      },
      "execution_count": null,
      "outputs": [
        {
          "output_type": "stream",
          "name": "stdout",
          "text": [
            "8\n"
          ]
        }
      ]
    },
    {
      "cell_type": "code",
      "source": [
        "def fred():\n",
        "   print(\"Zap\")\n",
        "\n",
        "def jane():\n",
        "   print(\"ABC\")\n",
        "\n",
        "jane()\n",
        "fred()\n",
        "jane()\n"
      ],
      "metadata": {
        "colab": {
          "base_uri": "https://localhost:8080/"
        },
        "id": "S8g4mO5m1O4T",
        "outputId": "2db8c5fc-1101-4ec1-bdd7-4a10af0e2af2"
      },
      "execution_count": null,
      "outputs": [
        {
          "output_type": "stream",
          "name": "stdout",
          "text": [
            "ABC\n",
            "Zap\n",
            "ABC\n"
          ]
        }
      ]
    },
    {
      "cell_type": "code",
      "source": [
        "hours = float(input(\"Enter hours worked: \"))\n",
        "rate = float(input(\"Enter rate per hour: \"))\n",
        "\n",
        "gross_pay = hours * rate\n",
        "\n",
        "\n",
        "print(f\"Gross pay: ${gross_pay:.2f}\")"
      ],
      "metadata": {
        "colab": {
          "base_uri": "https://localhost:8080/"
        },
        "id": "sR5e___R1aW1",
        "outputId": "5f51a312-effb-4da5-bc12-a383a7234a50"
      },
      "execution_count": null,
      "outputs": [
        {
          "output_type": "stream",
          "name": "stdout",
          "text": [
            "Enter hours worked: 35\n",
            "Enter rate per hour: 2.75\n",
            "Gross pay: $96.25\n"
          ]
        }
      ]
    },
    {
      "cell_type": "code",
      "source": [
        "def computepay(hours, rate):\n",
        "    regular_hours = min(hours, 40)\n",
        "    overtime_hours = max(0, hours - 40)\n",
        "\n",
        "    regular_pay = regular_hours * rate\n",
        "    overtime_pay = overtime_hours * (rate * 1.5)\n",
        "\n",
        "\n",
        "    total_pay = regular_pay + overtime_pay\n",
        "    return total_pay\n",
        "\n",
        "\n",
        "hours = float(input(\"Enter hours worked: \"))\n",
        "rate = float(input(\"Enter rate per hour: \"))\n",
        "\n",
        "\n",
        "pay = computepay(hours, rate)\n",
        "\n",
        "print(f\"Total pay: ${pay:.2f}\")\n"
      ],
      "metadata": {
        "colab": {
          "base_uri": "https://localhost:8080/"
        },
        "id": "RmAzLk-5159z",
        "outputId": "5d20e93b-0b9c-46b8-c2cb-a02c10d04c78"
      },
      "execution_count": null,
      "outputs": [
        {
          "output_type": "stream",
          "name": "stdout",
          "text": [
            "Enter hours worked: 45\n",
            "Enter rate per hour: 10\n",
            "Total pay: $475.00\n"
          ]
        }
      ]
    },
    {
      "cell_type": "code",
      "source": [
        "score = float(input(\"Enter score: \"))\n",
        "\n",
        "if score < 0.0 or score > 1.0:\n",
        "    print(\"Error\")\n",
        "else:\n",
        "    if score >= 0.9:\n",
        "        print(\"Grade: A\")\n",
        "    elif score >= 0.8:\n",
        "        print(\"Grade: B\")\n",
        "    elif score >= 0.7:\n",
        "        print(\"Grade: C\")\n",
        "    elif score >= 0.6:\n",
        "        print(\"Grade: D\")\n",
        "    else:\n",
        "        print(\"Grade: F\")\n"
      ],
      "metadata": {
        "colab": {
          "base_uri": "https://localhost:8080/"
        },
        "id": "5z0XCj3x3nXR",
        "outputId": "08875a8b-b9dc-46dc-8607-c30e06a23027"
      },
      "execution_count": null,
      "outputs": [
        {
          "output_type": "stream",
          "name": "stdout",
          "text": [
            "Enter score: 10.0\n",
            "Error\n"
          ]
        }
      ]
    },
    {
      "cell_type": "code",
      "source": [
        "def computegrade(score):\n",
        "    if score >= 0.9:\n",
        "        return \"A\"\n",
        "    elif score >= 0.8:\n",
        "        return \"B\"\n",
        "    elif score >= 0.7:\n",
        "        return \"C\"\n",
        "    elif score >= 0.6:\n",
        "        return \"D\"\n",
        "    elif score < 0.6:\n",
        "        return \"F\"\n",
        "\n",
        "\n",
        "score = float(input(\"Enter score between 0.0 and 1.0: \"))\n",
        "\n",
        "if score < 0.0 or score > 1.0:\n",
        "    print(\"Error\")\n",
        "else:\n",
        "    grade = computegrade(score)\n",
        "    print(f\"Grade: {grade}\")\n"
      ],
      "metadata": {
        "colab": {
          "base_uri": "https://localhost:8080/"
        },
        "id": "UbrR8eH85GOz",
        "outputId": "25889882-f1f7-4a32-929e-6c5fe3436c23"
      },
      "execution_count": null,
      "outputs": [
        {
          "output_type": "stream",
          "name": "stdout",
          "text": [
            "Enter score between 0.0 and 1.0: 10.16\n",
            "Error\n"
          ]
        }
      ]
    }
  ]
}